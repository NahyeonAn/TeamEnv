{
 "cells": [
  {
   "cell_type": "markdown",
   "metadata": {},
   "source": [
    "# Library import"
   ]
  },
  {
   "cell_type": "code",
   "execution_count": 1,
   "metadata": {},
   "outputs": [],
   "source": [
    "import openpyxl as op\n",
    "import pandas as pd\n",
    "import numpy as np\n",
    "import win32com.client as win32"
   ]
  },
  {
   "cell_type": "markdown",
   "metadata": {},
   "source": [
    "# TEA functions"
   ]
  },
  {
   "cell_type": "code",
   "execution_count": 32,
   "metadata": {},
   "outputs": [],
   "source": [
    "def InputValue(filename, target_data):\n",
    "    \n",
    "    # TEA file open\n",
    "    wb = op.load_workbook(filename)\n",
    "    capex_opex = wb['Plastic']\n",
    "    \n",
    "    # CAPEX\n",
    "    cells = [f'F{jj}' for jj in range(5,9)] + [f'F{jj}' for jj in range(10,15)]\n",
    "    blocks_input = ['HDPE[kg/hr]', 'LDPE[kg/hr]', 'PP[kg/hr]', 'PS[kg/hr]',\n",
    "               'RPLUGIN', 'RPLUGIN2', 'RPYROIN', 'RPYROOUT', 'S1']     # RPLUGIN, RPYROOUT ==> 열교환면적 데이터로 수정\n",
    "    \n",
    "    for _blck, _cell in zip(blocks_input, cells):\n",
    "        capex_opex[_cell] = target_data[_blck]\n",
    "        \n",
    "    # OPEX\n",
    "    cells = [f'C{jj}' for jj in range(23,27)] + [f'C{jj}' for jj in range(28,32)]\n",
    "    block_hd = ['HDPDCOM_HD', 'LPDECOM_HD', 'PPDECOM_HD', 'PSDECOM_HD',\n",
    "              'HEATER_HD', 'RPLUG_HD', 'RPYRO_HD', 'B2']\n",
    "    \n",
    "    for _hd, _cell in zip(block_hd, cells):\n",
    "        capex_opex[_cell] = target_data[_hd]\n",
    "    \n",
    "    wb.save(filename=filename)\n",
    "    wb.close()\n",
    "\n",
    "def SaveFile(filename):\n",
    "    excel = win32.Dispatch(\"Excel.Application\") \n",
    "    wb = excel.Workbooks.Open(r\"C:\\Users\\PSID_PC22\\Documents\\GitHub\\TeamEnv\\TEA\\{}\".format(filename))\n",
    "    excel.Visible = False\n",
    "    wb.Save()\n",
    "    excel.Quit()\n",
    "\n",
    "def LoadResults(filename):\n",
    "    re_load = op.load_workbook(filename, data_only=True)\n",
    "    tea_res = re_load['Plastic EAC&TPC']\n",
    "    eac = tea_res['E34'].value\n",
    "    tpc = tea_res['K25'].value\n",
    "    return eac, tpc\n",
    "    "
   ]
  },
  {
   "cell_type": "markdown",
   "metadata": {},
   "source": [
    "# Load aspen data"
   ]
  },
  {
   "cell_type": "code",
   "execution_count": null,
   "metadata": {},
   "outputs": [],
   "source": [
    "data = pd.read_csv('Results_pyrolysis_python.csv')\n",
    "data.columns"
   ]
  },
  {
   "cell_type": "markdown",
   "metadata": {},
   "source": [
    "# Analyse economics"
   ]
  },
  {
   "cell_type": "code",
   "execution_count": 38,
   "metadata": {},
   "outputs": [],
   "source": [
    "tea_file = 'TEA_plastic_pyro_v2.xlsx'\n",
    "\n",
    "tea_res = []\n",
    "for ii in range(len(data)):\n",
    "    target_data = data.iloc[ii,:]\n",
    "    InputValue(tea_file, target_data)\n",
    "    SaveFile(tea_file)\n",
    "    EAC, TPC = LoadResults(tea_file)\n",
    "    tea_res.append([EAC, TPC])"
   ]
  },
  {
   "cell_type": "markdown",
   "metadata": {},
   "source": [
    "# Save results"
   ]
  },
  {
   "cell_type": "code",
   "execution_count": 41,
   "metadata": {},
   "outputs": [],
   "source": [
    "data[['EAC', 'TPC']] = tea_res\n",
    "data.to_csv('Results_TEA_pyrolysis.csv')"
   ]
  }
 ],
 "metadata": {
  "kernelspec": {
   "display_name": "Python 3",
   "language": "python",
   "name": "python3"
  },
  "language_info": {
   "codemirror_mode": {
    "name": "ipython",
    "version": 3
   },
   "file_extension": ".py",
   "mimetype": "text/x-python",
   "name": "python",
   "nbconvert_exporter": "python",
   "pygments_lexer": "ipython3",
   "version": "3.8.10"
  },
  "orig_nbformat": 4
 },
 "nbformat": 4,
 "nbformat_minor": 2
}
