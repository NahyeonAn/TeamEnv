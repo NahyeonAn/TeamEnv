{
 "cells": [
  {
   "cell_type": "code",
   "execution_count": 1,
   "metadata": {},
   "outputs": [],
   "source": [
    "import os\n",
    "import win32com.client as win32\n",
    "import numpy as npd\n",
    "import matplotlib.pyplot as plt\n",
    "from bayes_opt import bayesian_optimization"
   ]
  },
  {
   "cell_type": "code",
   "execution_count": 39,
   "metadata": {},
   "outputs": [],
   "source": [
    "# 대상 파일 이름 지정\n",
    "filename = 'ORC_Sim_230503.hsc'"
   ]
  },
  {
   "cell_type": "code",
   "execution_count": 40,
   "metadata": {},
   "outputs": [],
   "source": [
    "# Active X server loading\n",
    "MyObject = win32.Dispatch(\"HYSYS.Application\")\n",
    "# 대상 파일의 절대 경로 반환\n",
    "filepath = os.path.abspath(filename)\n",
    "\n",
    "# HYSYS 파일 열기\n",
    "MySimCase = MyObject.SimulationCases.Open(filepath)\n",
    "# HYSYS 파일을 fore ground에서 작업\n",
    "MySimCase.visible = True"
   ]
  },
  {
   "cell_type": "code",
   "execution_count": 41,
   "metadata": {},
   "outputs": [],
   "source": [
    "# Stream 정보 불러오기\n",
    "MyStreams = MySimCase.Flowsheet.Streams"
   ]
  },
  {
   "cell_type": "code",
   "execution_count": 42,
   "metadata": {},
   "outputs": [],
   "source": [
    "# Equipment 정보 불러오기\n",
    "MyOperations = MySimCase.Flowsheet.Operations"
   ]
  },
  {
   "cell_type": "code",
   "execution_count": 43,
   "metadata": {},
   "outputs": [],
   "source": [
    "LNG_IN = MyStreams.Item('LNG IN')"
   ]
  },
  {
   "cell_type": "code",
   "execution_count": 44,
   "metadata": {},
   "outputs": [
    {
     "name": "stdout",
     "output_type": "stream",
     "text": [
      "Vapor fraction:  0.0\n",
      "Temperature:  -162.0\n",
      "Pressure:  130.0\n",
      "Mass flow rate:  1.0\n",
      "Molar flow rate:  0.055956707590770316\n",
      "Heat flow rate:  -5170.546638701831\n",
      "Mole fractions:  (0.0012000000000000001, 0.9115000000000001, 0.05550000000000001, 0.021600000000000005, 0.005100000000000001, 0.005100000000000001, 0.0, 0.0, 0.0, 0.0)\n"
     ]
    }
   ],
   "source": [
    "print('Vapor fraction: ', LNG_IN.VapourFractionValue)\n",
    "print('Temperature: ', LNG_IN.TemperatureValue)\n",
    "print('Pressure: ', LNG_IN.PressureValue)\n",
    "print('Mass flow rate: ', LNG_IN.MassFlowValue)\n",
    "print('Molar flow rate: ',LNG_IN.MolarFlowValue)\n",
    "print('Heat flow rate: ', LNG_IN.HeatFlowValue)\n",
    "print('Mole fractions: ',LNG_IN.ComponentMolarFractionValue)"
   ]
  },
  {
   "cell_type": "code",
   "execution_count": 45,
   "metadata": {},
   "outputs": [
    {
     "data": {
      "text/plain": [
       "('Nitrogen',\n",
       " 'Methane',\n",
       " 'Ethane',\n",
       " 'Propane',\n",
       " 'n-Butane',\n",
       " 'i-Butane',\n",
       " 'n-Pentane',\n",
       " 'i-Pentane',\n",
       " 'CF4',\n",
       " 'Fluoroform')"
      ]
     },
     "execution_count": 45,
     "metadata": {},
     "output_type": "execute_result"
    }
   ],
   "source": [
    "MyObject.ActiveDocument.Flowsheet.FluidPackage.ComponentList.Components.Names"
   ]
  },
  {
   "cell_type": "code",
   "execution_count": 46,
   "metadata": {},
   "outputs": [
    {
     "name": "stdout",
     "output_type": "stream",
     "text": [
      "Energy consumption:  1.4087554001360114\n",
      "Volume flow:  0.0022638139904500366\n"
     ]
    }
   ],
   "source": [
    "Pump = MyOperations.Item('P-100')\n",
    "print('Energy consumption: ',Pump.WorkValue)\n",
    "print('Volume flow: ', Pump.VolumeFlowValue)"
   ]
  },
  {
   "cell_type": "code",
   "execution_count": 47,
   "metadata": {},
   "outputs": [
    {
     "name": "stdout",
     "output_type": "stream",
     "text": [
      "Delta P:  400.0\n",
      "Energy consumption:  0.06682724759550707\n"
     ]
    }
   ],
   "source": [
    "Comp1 =  MyOperations.Item('Comp1')\n",
    "print('Delta P: ', Comp1.DeltaPValue)\n",
    "print('Energy consumption: ', Comp1.EnergyValue)"
   ]
  },
  {
   "cell_type": "code",
   "execution_count": 48,
   "metadata": {},
   "outputs": [
    {
     "name": "stdout",
     "output_type": "stream",
     "text": [
      "Delta P:  400.0\n",
      "Energy consumption:  0.04214064830048917\n"
     ]
    }
   ],
   "source": [
    "Turb1 = MyOperations.Item('Turb1')\n",
    "print('Delta P: ', Turb1.DeltaPValue)\n",
    "print('Energy consumption: ', Turb1.EnergyValue)"
   ]
  },
  {
   "cell_type": "code",
   "execution_count": 49,
   "metadata": {},
   "outputs": [
    {
     "name": "stdout",
     "output_type": "stream",
     "text": [
      "Hot pinch point temperature:  5.5275290083634445\n",
      "Cold pinch point temperature:  -28.737948052442505\n",
      "Minimum approach temperature:  34.26547706080595\n",
      "LMTD:  37.53336233941492\n",
      "Heat exchange duty:  713.3142223432806\n"
     ]
    }
   ],
   "source": [
    "HX1 = MyOperations.Item('E-100') # shell and tube type heat exchanger\n",
    "print('Hot pinch point temperature: ', HX1.HotPinchTemperatureValue)\n",
    "print('Cold pinch point temperature: ', HX1.ColdPinchTemperatureValue)\n",
    "print('Minimum approach temperature: ', HX1.MinimumApproachValue)\n",
    "print('LMTD: ', HX1.LmtdValue)\n",
    "print('Heat exchange duty: ', HX1.DutyValue)"
   ]
  },
  {
   "cell_type": "code",
   "execution_count": 50,
   "metadata": {},
   "outputs": [
    {
     "name": "stdout",
     "output_type": "stream",
     "text": [
      "Hot pinch point temperature:  -82.47558964043705\n",
      "Cold pinch point temperature:  -92.39954337469936\n",
      "Minimum approach temperature:  9.923953734262312\n",
      "LMTD:  21.313180722591667\n",
      "Heat exchange duty:  692.8043544936745\n"
     ]
    }
   ],
   "source": [
    "MSHE1 = MyOperations.Item('MSHE1')\n",
    "print('Hot pinch point temperature: ', MSHE1.HotPinchTempValue)\n",
    "print('Cold pinch point temperature: ', MSHE1.ColdPinchTempValue)\n",
    "print('Minimum approach temperature: ', MSHE1.MinApproachValue)\n",
    "print('LMTD: ', MSHE1.LmtdValue)\n",
    "print('Heat exchange duty: ', MSHE1.DutyValue)"
   ]
  },
  {
   "cell_type": "code",
   "execution_count": 51,
   "metadata": {},
   "outputs": [
    {
     "name": "stdout",
     "output_type": "stream",
     "text": [
      "Cell value of B1:  4.640110177101218\n"
     ]
    }
   ],
   "source": [
    "# Spreadsheet\n",
    "SPRDSHT1 = MyOperations.Item('SPRDSHT-1')\n",
    "P_100_pratio = SPRDSHT1.Cell('B1')\n",
    "print('Cell value of B1: ',P_100_pratio.CellValue)"
   ]
  },
  {
   "cell_type": "code",
   "execution_count": 52,
   "metadata": {},
   "outputs": [],
   "source": [
    "# Define blackbox function\n",
    "def black_box_function(a, b, c):\n",
    "    \n",
    "    # 대상 파일 이름 지정\n",
    "    filename = 'ORC_Sim_230503.hsc'\n",
    "    # Active X server loading\n",
    "    MyObject = win32.Dispatch(\"HYSYS.Application\")\n",
    "    # 대상 파일의 절대 경로 반환\n",
    "    filepath = os.path.abspath(filename)\n",
    "\n",
    "    # HYSYS 파일 열기\n",
    "    MySimCase = MyObject.SimulationCases.Open(filepath)\n",
    "    # HYSYS 파일을 fore ground에서 작업\n",
    "    MySimCase.visible = True\n",
    "    \n",
    "    # Stream 정보 불러오기\n",
    "    MyStreams = MySimCase.Flowsheet.Streams\n",
    "    \n",
    "    # Equipment 정보 불러오기\n",
    "    MyOperations = MySimCase.Flowsheet.Operations\n",
    "    \n",
    "    # Material\n",
    "    O1 = MyStreams.Item('O1')\n",
    "    \n",
    "    \n",
    "    # Energy\n",
    "    Pump_work = MyStreams.Item('Q_PUMP2')\n",
    "    Exp_work = MyStreams.Item('Q_EXP')\n",
    "    \n",
    "    MySimCase.Solver.CanSolve = 0\n",
    "    O1.MassFlowValue = a\n",
    "    O1.PressureValue = b\n",
    "    P_100_pratio.CellValue = c\n",
    "    MySimCase.Solver.CanSolve = 1\n",
    "    \n",
    "    Power_gen = Exp_work.Powervalue - Pump_work.Powervalue\n",
    "    \n",
    "    if HX1.MinimumApproachValue < 2:\n",
    "        Obj = Power_gen/1000\n",
    "    else:\n",
    "        Obj = Power_gen\n",
    "    return Obj"
   ]
  },
  {
   "cell_type": "code",
   "execution_count": 53,
   "metadata": {},
   "outputs": [],
   "source": [
    "pbounds = {'a': (1.5, 4),     # Working Fluid Mass Flow in kg/s\n",
    "            'b': (150, 300),  # Working Fluid Pressure in kPa\n",
    "            'c': (2, 5),      # Pump Pressure ratio\n",
    "          }"
   ]
  },
  {
   "cell_type": "code",
   "execution_count": 54,
   "metadata": {},
   "outputs": [],
   "source": [
    "optimizer = bayesian_optimization.BayesianOptimization(\n",
    "    f=black_box_function,\n",
    "    pbounds=pbounds,\n",
    "    verbose=2,\n",
    "    random_state=1,\n",
    ")\n"
   ]
  },
  {
   "cell_type": "code",
   "execution_count": 55,
   "metadata": {},
   "outputs": [
    {
     "name": "stdout",
     "output_type": "stream",
     "text": [
      "|   iter    |  target   |     a     |     b     |     c     |\n",
      "-------------------------------------------------------------\n",
      "| \u001b[0m 1       \u001b[0m | \u001b[0m 0.04184 \u001b[0m | \u001b[0m 2.543   \u001b[0m | \u001b[0m 258.0   \u001b[0m | \u001b[0m 2.0     \u001b[0m |\n",
      "| \u001b[95m 2       \u001b[0m | \u001b[95m 0.04345 \u001b[0m | \u001b[95m 2.256   \u001b[0m | \u001b[95m 172.0   \u001b[0m | \u001b[95m 2.277   \u001b[0m |\n",
      "| \u001b[95m 3       \u001b[0m | \u001b[95m 54.01   \u001b[0m | \u001b[95m 1.966   \u001b[0m | \u001b[95m 201.8   \u001b[0m | \u001b[95m 3.19    \u001b[0m |\n",
      "| \u001b[0m 4       \u001b[0m | \u001b[0m 0.09479 \u001b[0m | \u001b[0m 2.847   \u001b[0m | \u001b[0m 212.9   \u001b[0m | \u001b[0m 4.056   \u001b[0m |\n",
      "| \u001b[0m 5       \u001b[0m | \u001b[0m 35.13   \u001b[0m | \u001b[0m 2.011   \u001b[0m | \u001b[0m 281.7   \u001b[0m | \u001b[0m 2.082   \u001b[0m |\n",
      "| \u001b[0m 6       \u001b[0m | \u001b[0m 0.09825 \u001b[0m | \u001b[0m 3.176   \u001b[0m | \u001b[0m 212.6   \u001b[0m | \u001b[0m 3.676   \u001b[0m |\n",
      "| \u001b[95m 7       \u001b[0m | \u001b[95m 64.97   \u001b[0m | \u001b[95m 1.851   \u001b[0m | \u001b[95m 179.7   \u001b[0m | \u001b[95m 4.402   \u001b[0m |\n",
      "| \u001b[0m 8       \u001b[0m | \u001b[0m 0.1307  \u001b[0m | \u001b[0m 3.921   \u001b[0m | \u001b[0m 197.0   \u001b[0m | \u001b[0m 4.077   \u001b[0m |\n",
      "| \u001b[0m 9       \u001b[0m | \u001b[0m 0.07158 \u001b[0m | \u001b[0m 3.691   \u001b[0m | \u001b[0m 284.2   \u001b[0m | \u001b[0m 2.255   \u001b[0m |\n",
      "| \u001b[0m 10      \u001b[0m | \u001b[0m 58.01   \u001b[0m | \u001b[0m 1.598   \u001b[0m | \u001b[0m 175.5   \u001b[0m | \u001b[0m 4.634   \u001b[0m |\n",
      "| \u001b[95m 11      \u001b[0m | \u001b[95m 65.82   \u001b[0m | \u001b[95m 1.746   \u001b[0m | \u001b[95m 213.2   \u001b[0m | \u001b[95m 4.874   \u001b[0m |\n",
      "| \u001b[0m 12      \u001b[0m | \u001b[0m 0.07296 \u001b[0m | \u001b[0m 2.833   \u001b[0m | \u001b[0m 253.8   \u001b[0m | \u001b[0m 2.947   \u001b[0m |\n",
      "| \u001b[0m 13      \u001b[0m | \u001b[0m 0.05512 \u001b[0m | \u001b[0m 3.216   \u001b[0m | \u001b[0m 275.2   \u001b[0m | \u001b[0m 2.055   \u001b[0m |\n",
      "| \u001b[0m 14      \u001b[0m | \u001b[0m 0.1168  \u001b[0m | \u001b[0m 3.375   \u001b[0m | \u001b[0m 298.3   \u001b[0m | \u001b[0m 4.244   \u001b[0m |\n",
      "| \u001b[0m 15      \u001b[0m | \u001b[0m 43.88   \u001b[0m | \u001b[0m 2.201   \u001b[0m | \u001b[0m 268.4   \u001b[0m | \u001b[0m 2.31    \u001b[0m |\n",
      "| \u001b[0m 16      \u001b[0m | \u001b[0m 0.06626 \u001b[0m | \u001b[0m 2.62    \u001b[0m | \u001b[0m 286.3   \u001b[0m | \u001b[0m 2.881   \u001b[0m |\n",
      "| \u001b[0m 17      \u001b[0m | \u001b[0m 0.03739 \u001b[0m | \u001b[0m 2.219   \u001b[0m | \u001b[0m 169.5   \u001b[0m | \u001b[0m 2.058   \u001b[0m |\n",
      "| \u001b[0m 18      \u001b[0m | \u001b[0m 0.07743 \u001b[0m | \u001b[0m 3.197   \u001b[0m | \u001b[0m 181.7   \u001b[0m | \u001b[0m 2.797   \u001b[0m |\n",
      "| \u001b[0m 19      \u001b[0m | \u001b[0m 0.08439 \u001b[0m | \u001b[0m 2.729   \u001b[0m | \u001b[0m 158.0   \u001b[0m | \u001b[0m 3.722   \u001b[0m |\n",
      "| \u001b[0m 20      \u001b[0m | \u001b[0m 62.81   \u001b[0m | \u001b[0m 1.867   \u001b[0m | \u001b[0m 238.4   \u001b[0m | \u001b[0m 4.099   \u001b[0m |\n",
      "| \u001b[0m 21      \u001b[0m | \u001b[0m 57.47   \u001b[0m | \u001b[0m 1.5     \u001b[0m | \u001b[0m 213.3   \u001b[0m | \u001b[0m 5.0     \u001b[0m |\n",
      "| \u001b[0m 22      \u001b[0m | \u001b[0m 58.99   \u001b[0m | \u001b[0m 1.552   \u001b[0m | \u001b[0m 212.8   \u001b[0m | \u001b[0m 4.938   \u001b[0m |\n",
      "| \u001b[0m 23      \u001b[0m | \u001b[0m 60.78   \u001b[0m | \u001b[0m 1.637   \u001b[0m | \u001b[0m 179.3   \u001b[0m | \u001b[0m 4.789   \u001b[0m |\n",
      "| \u001b[0m 24      \u001b[0m | \u001b[0m 0.08438 \u001b[0m | \u001b[0m 2.385   \u001b[0m | \u001b[0m 179.2   \u001b[0m | \u001b[0m 4.455   \u001b[0m |\n",
      "| \u001b[0m 25      \u001b[0m | \u001b[0m 56.81   \u001b[0m | \u001b[0m 1.552   \u001b[0m | \u001b[0m 180.1   \u001b[0m | \u001b[0m 4.686   \u001b[0m |\n",
      "| \u001b[0m 26      \u001b[0m | \u001b[0m 53.84   \u001b[0m | \u001b[0m 1.505   \u001b[0m | \u001b[0m 179.3   \u001b[0m | \u001b[0m 4.529   \u001b[0m |\n",
      "| \u001b[0m 27      \u001b[0m | \u001b[0m 52.66   \u001b[0m | \u001b[0m 1.598   \u001b[0m | \u001b[0m 238.8   \u001b[0m | \u001b[0m 3.983   \u001b[0m |\n",
      "| \u001b[0m 28      \u001b[0m | \u001b[0m 50.67   \u001b[0m | \u001b[0m 1.53    \u001b[0m | \u001b[0m 238.0   \u001b[0m | \u001b[0m 4.01    \u001b[0m |\n",
      "| \u001b[0m 29      \u001b[0m | \u001b[0m 62.75   \u001b[0m | \u001b[0m 1.734   \u001b[0m | \u001b[0m 238.4   \u001b[0m | \u001b[0m 4.557   \u001b[0m |\n",
      "| \u001b[0m 30      \u001b[0m | \u001b[0m 0.08179 \u001b[0m | \u001b[0m 2.285   \u001b[0m | \u001b[0m 238.5   \u001b[0m | \u001b[0m 4.483   \u001b[0m |\n",
      "| \u001b[0m 31      \u001b[0m | \u001b[0m 0.08713 \u001b[0m | \u001b[0m 3.193   \u001b[0m | \u001b[0m 232.2   \u001b[0m | \u001b[0m 3.15    \u001b[0m |\n",
      "| \u001b[0m 32      \u001b[0m | \u001b[0m 47.12   \u001b[0m | \u001b[0m 1.852   \u001b[0m | \u001b[0m 170.9   \u001b[0m | \u001b[0m 2.95    \u001b[0m |\n",
      "| \u001b[0m 33      \u001b[0m | \u001b[0m 41.0    \u001b[0m | \u001b[0m 2.185   \u001b[0m | \u001b[0m 264.7   \u001b[0m | \u001b[0m 2.201   \u001b[0m |\n",
      "| \u001b[0m 34      \u001b[0m | \u001b[0m 55.13   \u001b[0m | \u001b[0m 1.583   \u001b[0m | \u001b[0m 238.4   \u001b[0m | \u001b[0m 4.306   \u001b[0m |\n",
      "| \u001b[0m 35      \u001b[0m | \u001b[0m 0.05987 \u001b[0m | \u001b[0m 2.996   \u001b[0m | \u001b[0m 166.9   \u001b[0m | \u001b[0m 2.35    \u001b[0m |\n",
      "| \u001b[0m 36      \u001b[0m | \u001b[0m 0.09953 \u001b[0m | \u001b[0m 3.034   \u001b[0m | \u001b[0m 233.6   \u001b[0m | \u001b[0m 3.961   \u001b[0m |\n",
      "| \u001b[0m 37      \u001b[0m | \u001b[0m 54.2    \u001b[0m | \u001b[0m 1.542   \u001b[0m | \u001b[0m 188.8   \u001b[0m | \u001b[0m 4.402   \u001b[0m |\n",
      "| \u001b[0m 38      \u001b[0m | \u001b[0m 0.04323 \u001b[0m | \u001b[0m 2.23    \u001b[0m | \u001b[0m 268.4   \u001b[0m | \u001b[0m 2.257   \u001b[0m |\n",
      "| \u001b[0m 39      \u001b[0m | \u001b[0m 0.08214 \u001b[0m | \u001b[0m 2.66    \u001b[0m | \u001b[0m 170.4   \u001b[0m | \u001b[0m 3.702   \u001b[0m |\n",
      "| \u001b[0m 40      \u001b[0m | \u001b[0m 0.1434  \u001b[0m | \u001b[0m 3.779   \u001b[0m | \u001b[0m 243.4   \u001b[0m | \u001b[0m 4.908   \u001b[0m |\n",
      "| \u001b[0m 41      \u001b[0m | \u001b[0m 0.1116  \u001b[0m | \u001b[0m 3.51    \u001b[0m | \u001b[0m 197.7   \u001b[0m | \u001b[0m 3.82    \u001b[0m |\n",
      "| \u001b[95m 42      \u001b[0m | \u001b[95m 69.15   \u001b[0m | \u001b[95m 2.075   \u001b[0m | \u001b[95m 159.7   \u001b[0m | \u001b[95m 4.112   \u001b[0m |\n",
      "| \u001b[0m 43      \u001b[0m | \u001b[0m 0.1339  \u001b[0m | \u001b[0m 3.645   \u001b[0m | \u001b[0m 278.0   \u001b[0m | \u001b[0m 4.647   \u001b[0m |\n",
      "| \u001b[0m 44      \u001b[0m | \u001b[0m 0.08261 \u001b[0m | \u001b[0m 2.996   \u001b[0m | \u001b[0m 167.3   \u001b[0m | \u001b[0m 3.228   \u001b[0m |\n",
      "| \u001b[0m 45      \u001b[0m | \u001b[0m 0.09044 \u001b[0m | \u001b[0m 3.598   \u001b[0m | \u001b[0m 212.8   \u001b[0m | \u001b[0m 2.888   \u001b[0m |\n",
      "| \u001b[0m 46      \u001b[0m | \u001b[0m 0.07912 \u001b[0m | \u001b[0m 2.27    \u001b[0m | \u001b[0m 278.6   \u001b[0m | \u001b[0m 4.294   \u001b[0m |\n",
      "| \u001b[0m 47      \u001b[0m | \u001b[0m 0.05406 \u001b[0m | \u001b[0m 2.319   \u001b[0m | \u001b[0m 232.7   \u001b[0m | \u001b[0m 2.669   \u001b[0m |\n",
      "| \u001b[0m 48      \u001b[0m | \u001b[0m 26.55   \u001b[0m | \u001b[0m 1.607   \u001b[0m | \u001b[0m 212.2   \u001b[0m | \u001b[0m 2.016   \u001b[0m |\n",
      "| \u001b[0m 49      \u001b[0m | \u001b[0m 49.92   \u001b[0m | \u001b[0m 1.787   \u001b[0m | \u001b[0m 244.9   \u001b[0m | \u001b[0m 3.23    \u001b[0m |\n",
      "| \u001b[0m 50      \u001b[0m | \u001b[0m 61.81   \u001b[0m | \u001b[0m 1.846   \u001b[0m | \u001b[0m 215.7   \u001b[0m | \u001b[0m 4.085   \u001b[0m |\n",
      "| \u001b[0m 51      \u001b[0m | \u001b[0m 62.67   \u001b[0m | \u001b[0m 2.046   \u001b[0m | \u001b[0m 261.2   \u001b[0m | \u001b[0m 3.606   \u001b[0m |\n",
      "| \u001b[0m 52      \u001b[0m | \u001b[0m 46.79   \u001b[0m | \u001b[0m 1.758   \u001b[0m | \u001b[0m 158.6   \u001b[0m | \u001b[0m 3.109   \u001b[0m |\n",
      "| \u001b[0m 53      \u001b[0m | \u001b[0m 0.04866 \u001b[0m | \u001b[0m 2.592   \u001b[0m | \u001b[0m 179.0   \u001b[0m | \u001b[0m 2.227   \u001b[0m |\n",
      "| \u001b[0m 54      \u001b[0m | \u001b[0m 47.45   \u001b[0m | \u001b[0m 1.605   \u001b[0m | \u001b[0m 167.5   \u001b[0m | \u001b[0m 3.505   \u001b[0m |\n",
      "| \u001b[0m 55      \u001b[0m | \u001b[0m 0.09873 \u001b[0m | \u001b[0m 2.801   \u001b[0m | \u001b[0m 274.0   \u001b[0m | \u001b[0m 4.368   \u001b[0m |\n",
      "| \u001b[95m 56      \u001b[0m | \u001b[95m 72.79   \u001b[0m | \u001b[95m 1.995   \u001b[0m | \u001b[95m 203.1   \u001b[0m | \u001b[95m 4.64    \u001b[0m |\n",
      "| \u001b[0m 57      \u001b[0m | \u001b[0m 0.07676 \u001b[0m | \u001b[0m 3.407   \u001b[0m | \u001b[0m 220.2   \u001b[0m | \u001b[0m 2.588   \u001b[0m |\n",
      "| \u001b[0m 58      \u001b[0m | \u001b[0m 0.06244 \u001b[0m | \u001b[0m 3.585   \u001b[0m | \u001b[0m 168.6   \u001b[0m | \u001b[0m 2.109   \u001b[0m |\n",
      "| \u001b[0m 59      \u001b[0m | \u001b[0m 0.04889 \u001b[0m | \u001b[0m 2.737   \u001b[0m | \u001b[0m 278.0   \u001b[0m | \u001b[0m 2.117   \u001b[0m |\n",
      "| \u001b[0m 60      \u001b[0m | \u001b[0m 44.44   \u001b[0m | \u001b[0m 2.137   \u001b[0m | \u001b[0m 276.8   \u001b[0m | \u001b[0m 2.392   \u001b[0m |\n",
      "| \u001b[0m 61      \u001b[0m | \u001b[0m 0.123   \u001b[0m | \u001b[0m 3.387   \u001b[0m | \u001b[0m 185.5   \u001b[0m | \u001b[0m 4.626   \u001b[0m |\n",
      "| \u001b[0m 62      \u001b[0m | \u001b[0m 57.39   \u001b[0m | \u001b[0m 1.539   \u001b[0m | \u001b[0m 266.3   \u001b[0m | \u001b[0m 4.763   \u001b[0m |\n",
      "| \u001b[0m 63      \u001b[0m | \u001b[0m 0.1298  \u001b[0m | \u001b[0m 3.527   \u001b[0m | \u001b[0m 262.1   \u001b[0m | \u001b[0m 4.669   \u001b[0m |\n",
      "| \u001b[0m 64      \u001b[0m | \u001b[0m 0.1142  \u001b[0m | \u001b[0m 2.991   \u001b[0m | \u001b[0m 219.9   \u001b[0m | \u001b[0m 4.966   \u001b[0m |\n",
      "| \u001b[0m 65      \u001b[0m | \u001b[0m 60.69   \u001b[0m | \u001b[0m 2.172   \u001b[0m | \u001b[0m 249.5   \u001b[0m | \u001b[0m 3.229   \u001b[0m |\n",
      "| \u001b[0m 66      \u001b[0m | \u001b[0m 42.77   \u001b[0m | \u001b[0m 1.709   \u001b[0m | \u001b[0m 180.3   \u001b[0m | \u001b[0m 2.893   \u001b[0m |\n",
      "| \u001b[0m 67      \u001b[0m | \u001b[0m 33.29   \u001b[0m | \u001b[0m 1.666   \u001b[0m | \u001b[0m 226.3   \u001b[0m | \u001b[0m 2.325   \u001b[0m |\n",
      "| \u001b[0m 68      \u001b[0m | \u001b[0m 0.06796 \u001b[0m | \u001b[0m 2.397   \u001b[0m | \u001b[0m 169.8   \u001b[0m | \u001b[0m 3.332   \u001b[0m |\n",
      "| \u001b[0m 69      \u001b[0m | \u001b[0m 0.1017  \u001b[0m | \u001b[0m 3.138   \u001b[0m | \u001b[0m 187.4   \u001b[0m | \u001b[0m 3.929   \u001b[0m |\n",
      "| \u001b[0m 70      \u001b[0m | \u001b[0m 0.1475  \u001b[0m | \u001b[0m 3.98    \u001b[0m | \u001b[0m 278.7   \u001b[0m | \u001b[0m 4.714   \u001b[0m |\n",
      "| \u001b[0m 71      \u001b[0m | \u001b[0m 0.06282 \u001b[0m | \u001b[0m 2.638   \u001b[0m | \u001b[0m 226.3   \u001b[0m | \u001b[0m 2.728   \u001b[0m |\n",
      "| \u001b[0m 72      \u001b[0m | \u001b[0m 61.48   \u001b[0m | \u001b[0m 1.606   \u001b[0m | \u001b[0m 248.6   \u001b[0m | \u001b[0m 4.974   \u001b[0m |\n",
      "| \u001b[0m 73      \u001b[0m | \u001b[0m 59.21   \u001b[0m | \u001b[0m 1.647   \u001b[0m | \u001b[0m 152.0   \u001b[0m | \u001b[0m 4.599   \u001b[0m |\n",
      "| \u001b[0m 74      \u001b[0m | \u001b[0m 67.49   \u001b[0m | \u001b[0m 1.772   \u001b[0m | \u001b[0m 272.3   \u001b[0m | \u001b[0m 4.924   \u001b[0m |\n",
      "| \u001b[0m 75      \u001b[0m | \u001b[0m 0.1024  \u001b[0m | \u001b[0m 3.679   \u001b[0m | \u001b[0m 176.8   \u001b[0m | \u001b[0m 3.256   \u001b[0m |\n",
      "| \u001b[0m 76      \u001b[0m | \u001b[0m 55.35   \u001b[0m | \u001b[0m 1.68    \u001b[0m | \u001b[0m 173.4   \u001b[0m | \u001b[0m 4.032   \u001b[0m |\n",
      "| \u001b[0m 77      \u001b[0m | \u001b[0m 0.09615 \u001b[0m | \u001b[0m 3.069   \u001b[0m | \u001b[0m 193.8   \u001b[0m | \u001b[0m 3.752   \u001b[0m |\n",
      "| \u001b[0m 78      \u001b[0m | \u001b[0m 0.08731 \u001b[0m | \u001b[0m 2.919   \u001b[0m | \u001b[0m 191.3   \u001b[0m | \u001b[0m 3.537   \u001b[0m |\n",
      "| \u001b[0m 79      \u001b[0m | \u001b[0m 0.07031 \u001b[0m | \u001b[0m 3.881   \u001b[0m | \u001b[0m 187.3   \u001b[0m | \u001b[0m 2.164   \u001b[0m |\n",
      "| \u001b[0m 80      \u001b[0m | \u001b[0m 70.76   \u001b[0m | \u001b[0m 2.143   \u001b[0m | \u001b[0m 261.2   \u001b[0m | \u001b[0m 3.983   \u001b[0m |\n",
      "| \u001b[0m 81      \u001b[0m | \u001b[0m 39.24   \u001b[0m | \u001b[0m 1.543   \u001b[0m | \u001b[0m 194.0   \u001b[0m | \u001b[0m 2.935   \u001b[0m |\n",
      "| \u001b[0m 82      \u001b[0m | \u001b[0m 36.21   \u001b[0m | \u001b[0m 1.716   \u001b[0m | \u001b[0m 232.1   \u001b[0m | \u001b[0m 2.435   \u001b[0m |\n",
      "| \u001b[0m 83      \u001b[0m | \u001b[0m 0.07752 \u001b[0m | \u001b[0m 2.324   \u001b[0m | \u001b[0m 257.0   \u001b[0m | \u001b[0m 4.043   \u001b[0m |\n",
      "| \u001b[0m 84      \u001b[0m | \u001b[0m 0.0793  \u001b[0m | \u001b[0m 3.945   \u001b[0m | \u001b[0m 172.7   \u001b[0m | \u001b[0m 2.359   \u001b[0m |\n",
      "| \u001b[0m 85      \u001b[0m | \u001b[0m 0.05461 \u001b[0m | \u001b[0m 2.515   \u001b[0m | \u001b[0m 164.9   \u001b[0m | \u001b[0m 2.528   \u001b[0m |\n",
      "| \u001b[0m 86      \u001b[0m | \u001b[0m 59.65   \u001b[0m | \u001b[0m 1.962   \u001b[0m | \u001b[0m 284.5   \u001b[0m | \u001b[0m 3.565   \u001b[0m |\n",
      "| \u001b[0m 87      \u001b[0m | \u001b[0m 50.89   \u001b[0m | \u001b[0m 2.043   \u001b[0m | \u001b[0m 192.3   \u001b[0m | \u001b[0m 2.871   \u001b[0m |\n",
      "| \u001b[0m 88      \u001b[0m | \u001b[0m 70.4    \u001b[0m | \u001b[0m 1.883   \u001b[0m | \u001b[0m 152.3   \u001b[0m | \u001b[0m 4.88    \u001b[0m |\n",
      "| \u001b[0m 89      \u001b[0m | \u001b[0m 0.07711 \u001b[0m | \u001b[0m 2.764   \u001b[0m | \u001b[0m 298.5   \u001b[0m | \u001b[0m 3.207   \u001b[0m |\n",
      "| \u001b[0m 90      \u001b[0m | \u001b[0m 0.1211  \u001b[0m | \u001b[0m 3.556   \u001b[0m | \u001b[0m 221.5   \u001b[0m | \u001b[0m 4.179   \u001b[0m |\n",
      "| \u001b[0m 91      \u001b[0m | \u001b[0m 0.08299 \u001b[0m | \u001b[0m 2.646   \u001b[0m | \u001b[0m 295.4   \u001b[0m | \u001b[0m 3.707   \u001b[0m |\n",
      "| \u001b[0m 92      \u001b[0m | \u001b[0m 0.05205 \u001b[0m | \u001b[0m 2.483   \u001b[0m | \u001b[0m 252.5   \u001b[0m | \u001b[0m 2.415   \u001b[0m |\n",
      "| \u001b[0m 93      \u001b[0m | \u001b[0m 30.95   \u001b[0m | \u001b[0m 1.836   \u001b[0m | \u001b[0m 290.8   \u001b[0m | \u001b[0m 2.028   \u001b[0m |\n",
      "| \u001b[0m 94      \u001b[0m | \u001b[0m 0.07442 \u001b[0m | \u001b[0m 2.295   \u001b[0m | \u001b[0m 270.9   \u001b[0m | \u001b[0m 3.882   \u001b[0m |\n",
      "| \u001b[0m 95      \u001b[0m | \u001b[0m 58.69   \u001b[0m | \u001b[0m 1.942   \u001b[0m | \u001b[0m 181.4   \u001b[0m | \u001b[0m 3.592   \u001b[0m |\n",
      "| \u001b[0m 96      \u001b[0m | \u001b[0m 0.1094  \u001b[0m | \u001b[0m 3.564   \u001b[0m | \u001b[0m 168.0   \u001b[0m | \u001b[0m 3.675   \u001b[0m |\n",
      "| \u001b[0m 97      \u001b[0m | \u001b[0m 0.1215  \u001b[0m | \u001b[0m 3.275   \u001b[0m | \u001b[0m 218.4   \u001b[0m | \u001b[0m 4.747   \u001b[0m |\n",
      "| \u001b[0m 98      \u001b[0m | \u001b[0m 0.1041  \u001b[0m | \u001b[0m 2.778   \u001b[0m | \u001b[0m 256.6   \u001b[0m | \u001b[0m 4.799   \u001b[0m |\n",
      "| \u001b[0m 99      \u001b[0m | \u001b[0m 0.09518 \u001b[0m | \u001b[0m 2.989   \u001b[0m | \u001b[0m 292.6   \u001b[0m | \u001b[0m 3.782   \u001b[0m |\n",
      "| \u001b[0m 100     \u001b[0m | \u001b[0m 0.1099  \u001b[0m | \u001b[0m 3.578   \u001b[0m | \u001b[0m 276.0   \u001b[0m | \u001b[0m 3.612   \u001b[0m |\n",
      "| \u001b[0m 101     \u001b[0m | \u001b[0m 31.42   \u001b[0m | \u001b[0m 1.575   \u001b[0m | \u001b[0m 186.4   \u001b[0m | \u001b[0m 2.337   \u001b[0m |\n",
      "| \u001b[0m 102     \u001b[0m | \u001b[0m 0.1215  \u001b[0m | \u001b[0m 3.482   \u001b[0m | \u001b[0m 171.1   \u001b[0m | \u001b[0m 4.377   \u001b[0m |\n",
      "| \u001b[0m 103     \u001b[0m | \u001b[0m 0.0883  \u001b[0m | \u001b[0m 3.186   \u001b[0m | \u001b[0m 260.7   \u001b[0m | \u001b[0m 3.194   \u001b[0m |\n",
      "| \u001b[0m 104     \u001b[0m | \u001b[0m 0.0521  \u001b[0m | \u001b[0m 2.475   \u001b[0m | \u001b[0m 155.3   \u001b[0m | \u001b[0m 2.465   \u001b[0m |\n",
      "| \u001b[0m 105     \u001b[0m | \u001b[0m 26.8    \u001b[0m | \u001b[0m 1.564   \u001b[0m | \u001b[0m 155.4   \u001b[0m | \u001b[0m 2.089   \u001b[0m |\n",
      "| \u001b[0m 106     \u001b[0m | \u001b[0m 0.0471  \u001b[0m | \u001b[0m 2.477   \u001b[0m | \u001b[0m 177.7   \u001b[0m | \u001b[0m 2.251   \u001b[0m |\n",
      "| \u001b[0m 107     \u001b[0m | \u001b[0m 0.09524 \u001b[0m | \u001b[0m 2.694   \u001b[0m | \u001b[0m 181.6   \u001b[0m | \u001b[0m 4.447   \u001b[0m |\n",
      "| \u001b[0m 108     \u001b[0m | \u001b[0m 0.1276  \u001b[0m | \u001b[0m 3.473   \u001b[0m | \u001b[0m 257.4   \u001b[0m | \u001b[0m 4.656   \u001b[0m |\n",
      "| \u001b[0m 109     \u001b[0m | \u001b[0m 57.64   \u001b[0m | \u001b[0m 1.879   \u001b[0m | \u001b[0m 291.6   \u001b[0m | \u001b[0m 3.603   \u001b[0m |\n",
      "| \u001b[0m 110     \u001b[0m | \u001b[0m 0.09468 \u001b[0m | \u001b[0m 2.71    \u001b[0m | \u001b[0m 212.3   \u001b[0m | \u001b[0m 4.342   \u001b[0m |\n",
      "| \u001b[0m 111     \u001b[0m | \u001b[0m 0.1008  \u001b[0m | \u001b[0m 3.728   \u001b[0m | \u001b[0m 272.9   \u001b[0m | \u001b[0m 3.103   \u001b[0m |\n",
      "| \u001b[0m 112     \u001b[0m | \u001b[0m 66.1    \u001b[0m | \u001b[0m 2.196   \u001b[0m | \u001b[0m 267.2   \u001b[0m | \u001b[0m 3.526   \u001b[0m |\n",
      "| \u001b[0m 113     \u001b[0m | \u001b[0m 0.06436 \u001b[0m | \u001b[0m 3.098   \u001b[0m | \u001b[0m 164.9   \u001b[0m | \u001b[0m 2.43    \u001b[0m |\n",
      "| \u001b[0m 114     \u001b[0m | \u001b[0m 0.0974  \u001b[0m | \u001b[0m 3.155   \u001b[0m | \u001b[0m 279.3   \u001b[0m | \u001b[0m 3.635   \u001b[0m |\n",
      "| \u001b[0m 115     \u001b[0m | \u001b[0m 0.1292  \u001b[0m | \u001b[0m 3.539   \u001b[0m | \u001b[0m 214.4   \u001b[0m | \u001b[0m 4.635   \u001b[0m |\n",
      "| \u001b[0m 116     \u001b[0m | \u001b[0m 0.0623  \u001b[0m | \u001b[0m 2.496   \u001b[0m | \u001b[0m 248.4   \u001b[0m | \u001b[0m 2.853   \u001b[0m |\n",
      "| \u001b[0m 117     \u001b[0m | \u001b[0m 42.95   \u001b[0m | \u001b[0m 1.657   \u001b[0m | \u001b[0m 280.1   \u001b[0m | \u001b[0m 2.959   \u001b[0m |\n",
      "| \u001b[0m 118     \u001b[0m | \u001b[0m 0.09475 \u001b[0m | \u001b[0m 2.516   \u001b[0m | \u001b[0m 228.5   \u001b[0m | \u001b[0m 4.855   \u001b[0m |\n",
      "| \u001b[0m 119     \u001b[0m | \u001b[0m 0.1146  \u001b[0m | \u001b[0m 3.594   \u001b[0m | \u001b[0m 198.6   \u001b[0m | \u001b[0m 3.834   \u001b[0m |\n",
      "| \u001b[0m 120     \u001b[0m | \u001b[0m 0.0471  \u001b[0m | \u001b[0m 2.237   \u001b[0m | \u001b[0m 151.3   \u001b[0m | \u001b[0m 2.467   \u001b[0m |\n",
      "=============================================================\n"
     ]
    }
   ],
   "source": [
    "\n",
    "optimizer.maximize(\n",
    "    init_points = 20,\n",
    "    n_iter=100,\n",
    "    acq = 'ei', \n",
    "    \n",
    ")\n",
    "obj_cur = optimizer.max['target']\n",
    "params_cur = optimizer.max['params']\n"
   ]
  },
  {
   "cell_type": "code",
   "execution_count": 56,
   "metadata": {},
   "outputs": [
    {
     "data": {
      "text/plain": [
       "{'target': 72.79388086520541,\n",
       " 'params': {'a': 1.9952479636399723,\n",
       "  'b': 203.05849053960696,\n",
       "  'c': 4.640110177101218}}"
      ]
     },
     "execution_count": 56,
     "metadata": {},
     "output_type": "execute_result"
    }
   ],
   "source": [
    "optimizer.max"
   ]
  },
  {
   "cell_type": "code",
   "execution_count": 57,
   "metadata": {},
   "outputs": [
    {
     "data": {
      "text/plain": [
       "Text(0, 0.5, 'Power generation, kW')"
      ]
     },
     "execution_count": 57,
     "metadata": {},
     "output_type": "execute_result"
    },
    {
     "data": {
      "image/png": "[encoded data removed]",
      "text/plain": [
       "<Figure size 432x288 with 1 Axes>"
      ]
     },
     "metadata": {
      "needs_background": "light"
     },
     "output_type": "display_data"
    }
   ],
   "source": [
    "best_target_list = np.array([])\n",
    "res_target = optimizer.space.target\n",
    "best_target = res_target[0]\n",
    "for i in np.arange(0, len(res_target)):\n",
    "    if res_target[i]>=best_target:\n",
    "        best_target = res_target[i]\n",
    "        best_target_list = np.hstack([best_target_list, best_target])\n",
    "    elif res_target[i]<best_target:\n",
    "        best_target = best_target\n",
    "        best_target_list = np.hstack([best_target_list, best_target])\n",
    "\n",
    "plt.plot(best_target_list)\n",
    "plt.xlabel('Iterations')\n",
    "plt.ylabel('Power generation, kW')"
   ]
  },
  {
   "cell_type": "code",
   "execution_count": 58,
   "metadata": {},
   "outputs": [],
   "source": [
    "a = optimizer.max['params']['a']\n",
    "b = optimizer.max['params']['b']\n",
    "c = optimizer.max['params']['c']"
   ]
  },
  {
   "cell_type": "code",
   "execution_count": 59,
   "metadata": {},
   "outputs": [
    {
     "data": {
      "text/plain": [
       "72.79388086520541"
      ]
     },
     "execution_count": 59,
     "metadata": {},
     "output_type": "execute_result"
    }
   ],
   "source": [
    "black_box_function(a, b, c)"
   ]
  }
 ],
 "metadata": {
  "kernelspec": {
   "display_name": "Python 3",
   "language": "python",
   "name": "python3"
  },
  "language_info": {
   "codemirror_mode": {
    "name": "ipython",
    "version": 3
   },
   "file_extension": ".py",
   "mimetype": "text/x-python",
   "name": "python",
   "nbconvert_exporter": "python",
   "pygments_lexer": "ipython3",
   "version": "3.8.10"
  },
  "vscode": {
   "interpreter": {
    "hash": "e3eba45f4ed4a49e399df2106e8fb4d9a3c36b9a933fded80e3241bd00912d43"
   }
  }
 },
 "nbformat": 4,
 "nbformat_minor": 4
}
